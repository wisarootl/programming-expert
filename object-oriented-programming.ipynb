{
 "cells": [
  {
   "cell_type": "markdown",
   "metadata": {},
   "source": [
    "# Object-Oriented Programming"
   ]
  },
  {
   "cell_type": "markdown",
   "metadata": {},
   "source": [
    "Object-Oriented Programming : interaction of objects in programs"
   ]
  },
  {
   "cell_type": "markdown",
   "metadata": {},
   "source": [
    "camelCase\n",
    "\n",
    "snake_case\n",
    "\n",
    "PascalCase\n",
    "\n",
    "kebab-case\n",
    "\n",
    "flatcase"
   ]
  },
  {
   "cell_type": "markdown",
   "metadata": {},
   "source": [
    "Object : is the class that all other classes inherit from. In Python, almost everything is an object, including functions, lists, ints and all other instances of built in data types.\n",
    "\n",
    "Class : can be thought of as a template or blueprint for the creation of objects. "
   ]
  },
  {
   "cell_type": "markdown",
   "metadata": {},
   "source": [
    "# Creating Class"
   ]
  },
  {
   "cell_type": "markdown",
   "metadata": {},
   "source": [
    "Encapsulation : how a programmer might prevent outside access to the details of a class in order to simplify the way the class might be used, or to make it harder to misuse the functionality that is exposed through certain methods or properties.\n",
    "\n",
    "```\n",
    "Class encapsulate all common behavior in one place\n",
    "```\n",
    "\n",
    "\n",
    "Method : function defined inside of a class definition.\n",
    "  - instance methods\n",
    "  - class methods\n",
    "  - static methods"
   ]
  },
  {
   "cell_type": "markdown",
   "metadata": {},
   "source": [
    "# Property"
   ]
  },
  {
   "cell_type": "markdown",
   "metadata": {},
   "source": [
    "## Old Properties"
   ]
  },
  {
   "cell_type": "code",
   "execution_count": null,
   "metadata": {},
   "outputs": [],
   "source": [
    "# Class Name = PascalCase\n",
    "# Class Name should be singular not plural (in general)\n",
    "class BankAccount:\n",
    "\n",
    "    # Constructor : a function defined within the class definition that will be called when a new instance is created.\n",
    "    # In Python, it is __init__ method\n",
    "    def __init__(self, account_holder_name):\n",
    "        # Attribute\n",
    "        self.account_holder_name = account_holder_name\n",
    "\n",
    "        # Private Attribute : cannot be modified outside the class\n",
    "        # In python, there is no built-in denote for private attribute\n",
    "        # It is convention to denote as self._private_attribute\n",
    "        self._balance = 0.0\n",
    "\n",
    "    # Instance Method\n",
    "    # getter\n",
    "    def get_balance(self):\n",
    "        return round(self._balance)\n",
    "\n",
    "    # setter\n",
    "    def set_balance(self, balance):\n",
    "        if type(balance) not in [int, float]:\n",
    "            return\n",
    "\n",
    "        if balance < 0 or balance > 100000:\n",
    "            return\n",
    "\n",
    "        self._balance = balance\n",
    "\n",
    "    balance = property(get_balance, set_balance)"
   ]
  },
  {
   "cell_type": "code",
   "execution_count": null,
   "metadata": {},
   "outputs": [],
   "source": [
    "# Instance : object created from that class's \"blueprint\"\n",
    "tim_bank_account = BankAccount(\"Tim\")"
   ]
  },
  {
   "cell_type": "markdown",
   "metadata": {},
   "source": [
    "## New Properties"
   ]
  },
  {
   "cell_type": "code",
   "execution_count": 1,
   "metadata": {},
   "outputs": [],
   "source": [
    "class BankAccount:\n",
    "    def __init__(self, account_holder_name):\n",
    "        self.account_holder_name = account_holder_name\n",
    "        self._balance = 0.0\n",
    "\n",
    "    @property\n",
    "    def balance(self):\n",
    "        return round(self._balance)\n",
    "\n",
    "    @balance.setter\n",
    "    def balance(self, balance):\n",
    "        if type(balance) not in [int, float]:\n",
    "            return\n",
    "\n",
    "        if balance < 0 or balance > 100000:\n",
    "            return\n",
    "\n",
    "        self._balance = balance\n"
   ]
  },
  {
   "cell_type": "code",
   "execution_count": 10,
   "metadata": {},
   "outputs": [
    {
     "name": "stdout",
     "output_type": "stream",
     "text": [
      "0\n",
      "0\n",
      "5\n",
      "5\n"
     ]
    }
   ],
   "source": [
    "tim_bank_account = BankAccount(\"Tim\")\n",
    "print(tim_bank_account.balance)\n",
    "tim_bank_account.balance = -5 # -5 < 0\n",
    "print(tim_bank_account.balance)\n",
    "tim_bank_account.balance = 5\n",
    "print(tim_bank_account.balance)\n",
    "tim_bank_account.balance = \"8\" # \"8\" is not int or float\n",
    "print(tim_bank_account.balance)\n"
   ]
  },
  {
   "cell_type": "markdown",
   "metadata": {},
   "source": [
    "# Class Attribute"
   ]
  },
  {
   "cell_type": "code",
   "execution_count": 17,
   "metadata": {},
   "outputs": [],
   "source": [
    "class Employee:\n",
    "\n",
    "    # Class Attributes\n",
    "    number_of_employees = 0\n",
    "    average_age = 0\n",
    "    average_salary = 0\n",
    "\n",
    "    def __init__(self, name, age, salary):\n",
    "        # instance attribute\n",
    "        self.name = name\n",
    "        self.age = age\n",
    "        self.salary = salary\n",
    "\n",
    "        total_age = Employee.average_age * Employee.number_of_employees\n",
    "        total_salary = Employee.average_salary * Employee.number_of_employees\n",
    "        Employee.average_age = (total_age + age) / (Employee.number_of_employees + 1)\n",
    "        Employee.average_salary = (total_salary + salary) / (Employee.number_of_employees + 1)\n",
    "        Employee.number_of_employees += 1"
   ]
  },
  {
   "cell_type": "code",
   "execution_count": 18,
   "metadata": {},
   "outputs": [
    {
     "name": "stdout",
     "output_type": "stream",
     "text": [
      "Employee.number_of_employees 0\n",
      "\n",
      "Employee.number_of_employees : 1\n",
      "employee1.number_of_employees : 1\n",
      "\n",
      "Employee.number_of_employees : 2\n",
      "employee1.number_of_employees : 2\n"
     ]
    }
   ],
   "source": [
    "print('Employee.number_of_employees', Employee.number_of_employees)\n",
    "print()\n",
    "\n",
    "employee1 = Employee(\"person1\", 30, 100000)\n",
    "print('Employee.number_of_employees :', Employee.number_of_employees)\n",
    "print('employee1.number_of_employees :', employee1.number_of_employees)\n",
    "print()\n",
    "\n",
    "employee2 = Employee(\"person1\", 40, 200000)\n",
    "print('Employee.number_of_employees :', Employee.number_of_employees)\n",
    "print('employee1.number_of_employees :', employee1.number_of_employees)"
   ]
  },
  {
   "cell_type": "code",
   "execution_count": null,
   "metadata": {},
   "outputs": [],
   "source": [
    "class Temperature:\n",
    "    min_temperature = 0\n",
    "    max_temperature = 1000\n",
    "\n",
    "    def __init__(self, kelvin):\n",
    "        if kelvin > self.max_temperature or kelvin < self.min_temperature:\n",
    "            raise Exception(\"Invalid temperature.\")\n",
    "\n",
    "        self.kelvin = kelvin\n",
    "    \n",
    "    # class method : to modify only class attribute \n",
    "    # while instance method can modified both instance attribute and class attribute\n",
    "    @classmethod\n",
    "    def update_min_temperature(cls, kelvin):\n",
    "        if kelvin > cls.max_temperature:\n",
    "            raise Exception(\"Invalid temperature.\")\n",
    "\n",
    "        cls.min_temperature = kelvin\n",
    "\n",
    "    @classmethod\n",
    "    def update_max_temperature(cls, kelvin):\n",
    "        if kelvin < cls.min_temperature:\n",
    "            raise Exception(\"Invalid temperature.\")\n",
    "\n",
    "        cls.max_temperature = kelvin"
   ]
  },
  {
   "cell_type": "markdown",
   "metadata": {},
   "source": [
    "# Static Method"
   ]
  },
  {
   "cell_type": "markdown",
   "metadata": {},
   "source": [
    "Static Method : is defined within a class but should not reference anything relevant to that class specifically, except for other static methods.\n",
    "\n",
    "For the most part, static methods should only be used for pure functions, which do not use temporary variables outside of their own scope and exclusively transform a set of inputs into some outputs. For instance, a method that converts a distance from kilometers to miles should most likely be static. Static methods are denoted using the @staticmethod decorator.\n",
    "\n",
    "Purpose of static method is to organize code and keep related code together\n"
   ]
  },
  {
   "cell_type": "code",
   "execution_count": 21,
   "metadata": {},
   "outputs": [],
   "source": [
    "class Student:\n",
    "  # Class Attribute and Static Attribute\n",
    "  # In Python, Class Attribute and Static Attribute are the same\n",
    "  grade_bump = 2.0\n",
    "\n",
    "  def __init__(self, name, grades=[]):\n",
    "    self.name = name\n",
    "    self.grades = grades\n",
    "\n",
    "  # instance method : have access all instance attrtibute (self), class attribute (Student.grade_bump), static attribute\n",
    "  def average(self):\n",
    "    return sum(self.grades) / len(self.grades)\n",
    "  \n",
    "  # class method : have access on class attribute (cls.grade_bump), static attribute (Student.grade_bump)\n",
    "  @classmethod\n",
    "  def average_from_grade_plus_bump(cls, grades):\n",
    "    # class method call static method\n",
    "    average = cls.average_from_grades(grades)\n",
    "    return min(average + cls.grade_bump, 100)\n",
    "\n",
    "  # static method : can access only static attribute\n",
    "  # Note: there is no restriction in python to restrict access class attribute \n",
    "  # (class attribute is the same with static attribute in python)\n",
    "  @staticmethod\n",
    "  def average_from_grades(grades):\n",
    "    return sum(grades) / len(grades)"
   ]
  },
  {
   "cell_type": "code",
   "execution_count": 25,
   "metadata": {},
   "outputs": [
    {
     "name": "stdout",
     "output_type": "stream",
     "text": [
      "69.375\n",
      "55.0\n",
      "90.0\n"
     ]
    }
   ],
   "source": [
    "s1 = Student(\"Tim\", [80, 75, 65, 100])\n",
    "s2 = Student(\"Clement\", [60, 50, 65, 60])\n",
    "\n",
    "average = Student.average_from_grades(s2.grades + s1.grades)\n",
    "print(average)\n",
    "\n",
    "average = s1.average_from_grades(s2.grades[:2])\n",
    "print(average)\n",
    "\n",
    "average = s2.average_from_grades([80, 90, 100])\n",
    "print(average)"
   ]
  },
  {
   "cell_type": "code",
   "execution_count": null,
   "metadata": {},
   "outputs": [],
   "source": [
    "class Physics:\n",
    "\n",
    "    @staticmethod\n",
    "    def calculate_net_force(mass, acceleration):\n",
    "        if mass < 0 or acceleration < 0:\n",
    "            return 0.0\n",
    "\n",
    "        return mass * acceleration\n",
    "\n",
    "    @staticmethod\n",
    "    def calculate_acceleration(mass, net_force):\n",
    "        # Also checking if mass is 0 because of division by 0 error.\n",
    "        if mass <= 0 or net_force < 0:\n",
    "            return 0.0\n",
    "\n",
    "        return net_force / mass\n",
    "\n",
    "    @staticmethod\n",
    "    def calculate_mass(net_force, acceleration):\n",
    "        # Also checking if acceleration is 0 because of division by 0 error.\n",
    "        if acceleration <= 0 or net_force < 0:\n",
    "            return 0.0\n",
    "\n",
    "        return net_force / acceleration"
   ]
  },
  {
   "cell_type": "markdown",
   "metadata": {},
   "source": [
    "# Inheritance"
   ]
  },
  {
   "cell_type": "markdown",
   "metadata": {},
   "source": [
    "inheritance : allows you to have related classes, reuse functionality, not have duplicate code\n",
    "\n",
    "Polymorphism (multiple form) : Manager is Employer and Employee is Person. Thus, Manage can havior all behavior of employee and person."
   ]
  },
  {
   "cell_type": "code",
   "execution_count": 46,
   "metadata": {},
   "outputs": [],
   "source": [
    "class Person:\n",
    "  def __init__(self, first_name, last_name):\n",
    "    self.first_name = first_name\n",
    "    self.last_name = last_name\n",
    "\n",
    "  def say_hello(self):\n",
    "    print(f\"Hi my name is {self.first_name} {self.last_name}\")\n",
    "\n",
    "# Employee inherit from Person\n",
    "# Employee = child class, derived class, subclass\n",
    "# Person = superclass, base class, parent class\n",
    "class Employee(Person):\n",
    "\n",
    "  def __init__(self, first_name, last_name, salary):\n",
    "    super().__init__(first_name, last_name)\n",
    "    self.salary = salary\n",
    "\n",
    "  def test(self):\n",
    "    print(\"test\")\n",
    "\n",
    "  # overriding method : override method in parent class\n",
    "  def say_hello(self):\n",
    "    # call method from super class\n",
    "    super().say_hello()\n",
    "    print(f'My salary is {self.salary}')\n",
    "  \n",
    "\n",
    "class Manager(Employee):\n",
    "  def __init__(self, first_name, last_name, salary, department):\n",
    "    super().__init__(first_name, last_name, salary)\n",
    "    self.department = department\n",
    "\n",
    "class Owner(Person):\n",
    "  def __init__(self, first_name, last_name, net_worth):\n",
    "    super().__init__(first_name, last_name)\n",
    "    self.net_worth = net_worth\n",
    "\n",
    "  \n"
   ]
  },
  {
   "cell_type": "code",
   "execution_count": 48,
   "metadata": {},
   "outputs": [
    {
     "name": "stdout",
     "output_type": "stream",
     "text": [
      "Hi my name is Tim Programmer\n",
      "My salary is 50000\n",
      "test\n"
     ]
    }
   ],
   "source": [
    "e = Employee(\"Tim\", \"Programmer\", 50000)\n",
    "e.say_hello()\n",
    "e.test()"
   ]
  },
  {
   "cell_type": "code",
   "execution_count": 49,
   "metadata": {},
   "outputs": [
    {
     "name": "stdout",
     "output_type": "stream",
     "text": [
      "Hi my name is Tim Programmer\n",
      "My salary is 50000\n",
      "test\n"
     ]
    }
   ],
   "source": [
    "e = Manager(\"Tim\", \"Programmer\", 50000, \"Sports\")\n",
    "e.say_hello()\n",
    "e.test()"
   ]
  },
  {
   "cell_type": "code",
   "execution_count": 53,
   "metadata": {},
   "outputs": [
    {
     "name": "stdout",
     "output_type": "stream",
     "text": [
      "Hi my name is Tim Programmer\n",
      "<class '__main__.Owner'>\n",
      "True\n"
     ]
    }
   ],
   "source": [
    "o = Owner(\"Tim\", \"Programmer\", 50000)\n",
    "o.say_hello()\n",
    "print(type(o))\n",
    "print(isinstance(o, Person))"
   ]
  },
  {
   "cell_type": "markdown",
   "metadata": {},
   "source": [
    "## Method Resolution Order"
   ]
  },
  {
   "cell_type": "code",
   "execution_count": null,
   "metadata": {},
   "outputs": [],
   "source": [
    "class A:\n",
    "  pass\n",
    "\n",
    "class B:\n",
    "  def __init__(self):\n",
    "    print(\"B\")\n",
    "\n",
    "# multiple inheritance\n",
    "class C(A, B):\n",
    "  def __init__(self):\n",
    "    # super look at A first. If not available at A, then look at B\n",
    "    super().__init__()\n",
    "  \n",
    "c = C()\n",
    "print(isinstance(c, A))"
   ]
  },
  {
   "cell_type": "markdown",
   "metadata": {},
   "source": [
    "# Abstract Class"
   ]
  },
  {
   "cell_type": "markdown",
   "metadata": {},
   "source": [
    "Abstract Method : is a method that is defined in a interface or abstract class and does not provide an implementation. Abstract methods are designed to be overriden by base or subclasses that extend the class or implement the interface they're defined in.\n",
    "\n",
    "Abstract Class : is a class that contains at least one abstract method and is not meant to be instantiated. Abstract classes are meant to act as the parent or base class in an inheritance hierarchy. Typically abstract classes implement some functionality that can be used commonly by all child or subclasses."
   ]
  },
  {
   "cell_type": "code",
   "execution_count": 61,
   "metadata": {},
   "outputs": [],
   "source": [
    "# There is no abstract class built-in in Python\n",
    "# it is convention to have prefix Abstract- in class name\n",
    "\n",
    "# Abstract Class = not intend to be initiated. it can contain abstract method (method without implementation)\n",
    "# this class implementing behavior\n",
    "class AbstractGame:\n",
    "  def start(self):\n",
    "    while True:\n",
    "      start = input(\"Would you like to play?\")\n",
    "      if start.lower() == \"yes\":\n",
    "        break\n",
    "    self.play()\n",
    "  \n",
    "  # Concrete method : method with implementation\n",
    "  def end(self):\n",
    "    print(\"The game has ended.\")\n",
    "    self.reset()\n",
    "  \n",
    "  # Abstact Menthod\n",
    "  def play(self):\n",
    "    raise NotImplementedError(\"You must provide an implementation for play()\")\n",
    "  \n",
    "  def reset(self):\n",
    "    raise NotImplementedError(\"You must provide an implementation for reset()\")"
   ]
  },
  {
   "cell_type": "code",
   "execution_count": 69,
   "metadata": {},
   "outputs": [],
   "source": [
    "import random\n",
    "\n",
    "# Concrete Class\n",
    "class RandomGuesser(AbstractGame):\n",
    "  def __init__(self, rounds):\n",
    "    self.rounds = rounds\n",
    "    self.round = 0\n",
    "  \n",
    "  def reset(self):\n",
    "    self.round = 0\n",
    "  \n",
    "  def play(self):\n",
    "    while self.round < self.rounds:\n",
    "      self.round += 1\n",
    "\n",
    "      print(f\"Welcome to round {self.round}. Let's begin!\")\n",
    "      random_num = random.randint(1, 9)\n",
    "      while True:\n",
    "        guess = input(\"Enter a number between 1-9 :\")\n",
    "        if int(guess) == random_num:\n",
    "          print(\"You got it!\")\n",
    "          break\n",
    "    self.end()\n"
   ]
  },
  {
   "cell_type": "code",
   "execution_count": 71,
   "metadata": {},
   "outputs": [
    {
     "name": "stdout",
     "output_type": "stream",
     "text": [
      "Welcome to round 1. Let's begin!\n",
      "You got it!\n",
      "Welcome to round 2. Let's begin!\n",
      "You got it!\n",
      "The game has ended.\n"
     ]
    }
   ],
   "source": [
    "game = RandomGuesser(2)\n",
    "game.start()"
   ]
  },
  {
   "cell_type": "markdown",
   "metadata": {},
   "source": [
    "# Interface"
   ]
  },
  {
   "cell_type": "markdown",
   "metadata": {},
   "source": [
    "Interface :  a class that only defines abstract methods. An interface is designed to be used as an abstract data type that enforces that classes that implement it define specific methods and behavior.\n",
    "\n",
    "There is no bulit-in interface in python for an interface but we can still represent one by creating a class that only defines abstract methods."
   ]
  },
  {
   "cell_type": "code",
   "execution_count": 107,
   "metadata": {},
   "outputs": [],
   "source": [
    "# interface should only contain abstract method\n",
    "class RunCodeInterface:\n",
    "  def compile_code(self):\n",
    "    raise NotImplementedError(\"You must implement compile_code()\")\n",
    "\n",
    "  def execute_code(self):\n",
    "    raise NotImplementedError(\"You must implement execute_code()\")\n",
    "\n",
    "class GoCode(RunCodeInterface):\n",
    "  def compile_code(self):\n",
    "    print(\"Compile Go Code\")\n",
    "\n",
    "  def execute_code(self):\n",
    "    print(\"Execute Go Code\")\n",
    "\n",
    "class JavaCode(RunCodeInterface):\n",
    "  def compile_code(self):\n",
    "    print(\"Compile Java Code\")\n",
    "\n",
    "  def execute_code(self):\n",
    "    print(\"Execute Java Code\")\n",
    "\n",
    "# if there is child class, it is convention to inherit interface as the 2nd parent\n",
    "class GoCode2(GoCode, RunCodeInterface):\n",
    "  pass\n",
    "\n",
    "# It is important to note that Python won't raise a TypeError if you pass instance of other class, \n",
    "# the reason for this is one of the main points in Python's design philosophy: \"We're all consenting adults here\", \n",
    "# which means you are expected to be aware of what you can pass to a function and what you can't. \n",
    "# If you really want to write code that throws TypeErrors you can use the isinstance function \n",
    "# to check that the passed argument is of the proper type or a subclass of it like this:\n",
    "def run_code(code : RunCodeInterface):\n",
    "  if not isinstance(code, RunCodeInterface):\n",
    "      raise TypeError(\"Not RunCodeInterface\")\n",
    "  code.compile_code()\n",
    "  code.execute_code()"
   ]
  },
  {
   "cell_type": "code",
   "execution_count": 108,
   "metadata": {},
   "outputs": [
    {
     "name": "stdout",
     "output_type": "stream",
     "text": [
      "Compile Go Code\n",
      "Execute Go Code\n"
     ]
    }
   ],
   "source": [
    "go = GoCode()\n",
    "run_code(go)"
   ]
  },
  {
   "cell_type": "markdown",
   "metadata": {},
   "source": [
    "# Operator Overloading"
   ]
  },
  {
   "cell_type": "markdown",
   "metadata": {},
   "source": [
    "## example1"
   ]
  },
  {
   "cell_type": "code",
   "execution_count": 113,
   "metadata": {},
   "outputs": [
    {
     "name": "stdout",
     "output_type": "stream",
     "text": [
      "Tim is a great instructor! This is another page. 3\n"
     ]
    }
   ],
   "source": [
    "class Page:\n",
    "  def __init__(self, words, page_number):\n",
    "    self.words = words\n",
    "    self.page_number = page_number\n",
    "  \n",
    "  # dunder/magic method\n",
    "  def __add__(self, other):\n",
    "    new_words = self.words + ' ' + other.words\n",
    "    new_page_number = max(self.page_number, other.page_number) + 1\n",
    "    return Page(new_words, new_page_number)\n",
    "  \n",
    "\n",
    "page1 = Page(\"Tim is a great instructor!\", 1)\n",
    "page2 = Page(\"This is another page.\", 2)\n",
    "page3 = page1 + page2\n",
    "print(page3.words, page3.page_number)"
   ]
  },
  {
   "cell_type": "code",
   "execution_count": 119,
   "metadata": {},
   "outputs": [],
   "source": [
    "class StoreItem:\n",
    "  TAX = 0.13\n",
    "\n",
    "  def __init__(self, name, price):\n",
    "    self.name = name\n",
    "    self.price = price\n",
    "    self.after_tax_price = 0\n",
    "    self.set_after_tax_price()\n",
    "\n",
    "  def set_after_tax_price(self):\n",
    "    self.after_tax_price = round(self.price * (1 + self.TAX), 2)\n",
    "\n",
    "  def __sub__(self, discount):\n",
    "    return StoreItem(self.name, self.price - discount)\n",
    "\n",
    "  def __mul__(self, value):\n",
    "    return StoreItem(self.name, self.price * value)\n",
    "\n",
    "  "
   ]
  },
  {
   "cell_type": "code",
   "execution_count": 120,
   "metadata": {},
   "outputs": [
    {
     "name": "stdout",
     "output_type": "stream",
     "text": [
      "5.65\n"
     ]
    }
   ],
   "source": [
    "bread = StoreItem(\"Bread\", 7)\n",
    "discounted_bread = bread - 2\n",
    "print(discounted_bread.after_tax_price)"
   ]
  },
  {
   "cell_type": "code",
   "execution_count": 121,
   "metadata": {},
   "outputs": [
    {
     "name": "stdout",
     "output_type": "stream",
     "text": [
      "6.33\n"
     ]
    }
   ],
   "source": [
    "bread = StoreItem(\"Bread\", 7)\n",
    "discounted_bread = bread * 0.8\n",
    "print(discounted_bread.after_tax_price)"
   ]
  },
  {
   "cell_type": "markdown",
   "metadata": {},
   "source": [
    "## example2"
   ]
  },
  {
   "cell_type": "code",
   "execution_count": 190,
   "metadata": {},
   "outputs": [],
   "source": [
    "import math\n",
    "\n",
    "class Line:\n",
    "  def __init__(self, point1, point2):\n",
    "    self.point1 = point1\n",
    "    self.point2 = point2\n",
    "\n",
    "  # truediv = \"/\"\n",
    "  def __truediv__(self, factor):\n",
    "    new_point1 = (self.point1[0] / factor, self.point1[1] / factor)\n",
    "    new_point2 = (self.point2[0] / factor, self.point2[1] / factor)\n",
    "    return Line(new_point1, new_point2)\n",
    "\n",
    "  # floordiv = \"//\"\n",
    "  def __floordiv__(self, factor):\n",
    "    new_point1 = (self.point1[0] // factor, self.point1[1] // factor)\n",
    "    new_point2 = (self.point2[0] // factor, self.point2[1] // factor)\n",
    "    return Line(new_point1, new_point2)\n",
    "  \n",
    "  # len(line)\n",
    "  def __len__(self):\n",
    "    distance_x = (self.point1[0] - self.point2[0]) ** 2\n",
    "    distance_y = (self.point1[1] - self.point2[1]) ** 2\n",
    "    distance = math.sqrt(distance_x + distance_y)\n",
    "    return round(distance)\n",
    "  \n",
    "  # eq = \"==\"\"\n",
    "  def __eq__(self, other):\n",
    "    if not isinstance(other, Line):\n",
    "      return False\n",
    "    \n",
    "    return self.point1 == other.point1 and self.point2 == other.point2\n",
    "  \n",
    "  # ne = \"!=\"\"\n",
    "  def __ue__(self, other):\n",
    "    return not self.__eq__(other)\n",
    "\n",
    "  # gt = \">\"\n",
    "  def __gt__(self, other):\n",
    "    return len(self) > len(other)\n",
    "\n",
    "  # ge = \">=\"\n",
    "  def __ge__(self, other):\n",
    "    return len(self) >= len(other)\n",
    "\n",
    "  # lt = \"<\"\n",
    "  def __gt__(self, other):\n",
    "    return len(self) < len(other)\n",
    "\n",
    "  # le = \"<=\"\n",
    "  def __ge__(self, other):\n",
    "    return len(self) <= len(other)\n",
    "\n",
    "\n"
   ]
  },
  {
   "cell_type": "code",
   "execution_count": 191,
   "metadata": {},
   "outputs": [
    {
     "name": "stdout",
     "output_type": "stream",
     "text": [
      "(5.0, 2.5) (10.0, 4.5)\n",
      "(5, 2) (10, 4)\n"
     ]
    }
   ],
   "source": [
    "line1 = Line((10, 5), (20, 9))\n",
    "line2 = line1 / 2\n",
    "print(line2.point1, line2.point2)\n",
    "\n",
    "line3 = line1 // 2\n",
    "print(line3.point1, line3.point2)"
   ]
  },
  {
   "cell_type": "code",
   "execution_count": 192,
   "metadata": {},
   "outputs": [
    {
     "data": {
      "text/plain": [
       "11"
      ]
     },
     "execution_count": 192,
     "metadata": {},
     "output_type": "execute_result"
    }
   ],
   "source": [
    "len(line1)"
   ]
  },
  {
   "cell_type": "code",
   "execution_count": 193,
   "metadata": {},
   "outputs": [
    {
     "name": "stdout",
     "output_type": "stream",
     "text": [
      "True\n",
      "True\n"
     ]
    }
   ],
   "source": [
    "line1 = Line((10, 5), (20, 9))\n",
    "line2 = Line((10, 5), (20, 9))\n",
    "# without __eq__(), are these two object are the same? \n",
    "# and it will return False for this example\n",
    "print(line1 == line2)\n",
    "\n",
    "line1 = Line((10, 5), (20, 9))\n",
    "line2 = line1\n",
    "print(line1 == line2)"
   ]
  },
  {
   "cell_type": "code",
   "execution_count": 194,
   "metadata": {},
   "outputs": [
    {
     "data": {
      "text/plain": [
       "True"
      ]
     },
     "execution_count": 194,
     "metadata": {},
     "output_type": "execute_result"
    }
   ],
   "source": [
    "line1 >= line2"
   ]
  },
  {
   "cell_type": "markdown",
   "metadata": {},
   "source": [
    "## example3"
   ]
  },
  {
   "cell_type": "code",
   "execution_count": 208,
   "metadata": {},
   "outputs": [],
   "source": [
    "class Page:\n",
    "  def __init__(self, text, page_number):\n",
    "    self.text = text\n",
    "    self.page_number = page_number\n",
    "\n",
    "  def __len__(self):\n",
    "    return len(self.text)\n",
    "\n",
    "  # str = str(page) or print(str)\n",
    "  # print() will call str()\n",
    "  # str human readability\n",
    "  def __str__(self):\n",
    "    # return self.text\n",
    "    return f\"Page(text = (self.text), page_number = {self.page_number})\"\n",
    "\n",
    "  # internal representation\n",
    "  # represeantion for debuging != str (for human reabability)\n",
    "  def __repr__(self):\n",
    "    return self.__str__()\n",
    "\n",
    "class Book:\n",
    "  def __init__(self, title, author, pages, id_number):\n",
    "    self.title = title\n",
    "    self.author = author\n",
    "    self.pages = pages\n",
    "    self.id_number = id_number\n",
    "\n",
    "  def __len__(self):\n",
    "    return len(self.pages)\n",
    "\n",
    "  def __str__(self):\n",
    "    output = f\"Book({self.title}, {self.author}, {self.id_number})\"\n",
    "\n",
    "    for page in self.pages:\n",
    "      output += \"\\n\" + str(page)\n",
    "    \n",
    "    return output\n",
    "  \n",
    "  def __repr__(self):\n",
    "    return f\"Book(id_number={self.id_number})\"\n"
   ]
  },
  {
   "cell_type": "code",
   "execution_count": 209,
   "metadata": {},
   "outputs": [
    {
     "name": "stdout",
     "output_type": "stream",
     "text": [
      "2\n",
      "Page(text = (self.text), page_number = 1)\n"
     ]
    }
   ],
   "source": [
    "page1 = Page(\"Page 1!\", 1)\n",
    "page2 = Page(\"Rhis is page 2.\", 2)\n",
    "book = Book(\"Tim is great\", \"Tim\", [page1, page2], 1)\n",
    "print(len(book))\n",
    "print(page1)"
   ]
  },
  {
   "cell_type": "code",
   "execution_count": 210,
   "metadata": {},
   "outputs": [
    {
     "name": "stdout",
     "output_type": "stream",
     "text": [
      "Book(Tim is great, Tim, 1)\n",
      "Page(text = (self.text), page_number = 1)\n",
      "Page(text = (self.text), page_number = 2)\n"
     ]
    }
   ],
   "source": [
    "print(book)"
   ]
  },
  {
   "cell_type": "code",
   "execution_count": 212,
   "metadata": {},
   "outputs": [
    {
     "name": "stdout",
     "output_type": "stream",
     "text": [
      "Book(id_number=1)\n"
     ]
    }
   ],
   "source": [
    "print(repr(book))"
   ]
  },
  {
   "cell_type": "markdown",
   "metadata": {},
   "source": [
    "# Assignment"
   ]
  },
  {
   "cell_type": "code",
   "execution_count": null,
   "metadata": {},
   "outputs": [],
   "source": [
    "class Inventory:\n",
    "    def __init__(self, max_capacity):\n",
    "        self.max_capacity = max_capacity\n",
    "        self.items = {}\n",
    "        self.item_count = 0\n",
    "\n",
    "    def add_item(self, name, price, quantity):\n",
    "        if name in self.items:\n",
    "            return False\n",
    "\n",
    "        if self.item_count + quantity > self.max_capacity:\n",
    "            return False\n",
    "\n",
    "        self.items[name] = {\"name\": name, \"price\": price, \"quantity\": quantity}\n",
    "        self.item_count += quantity\n",
    "        return True\n",
    "\n",
    "    def delete_item(self, name):\n",
    "        if name not in self.items:\n",
    "            return False\n",
    "\n",
    "        self.item_count -= self.items[name][\"quantity\"]\n",
    "        del self.items[name]\n",
    "        return True\n",
    "\n",
    "    def get_items_in_price_range(self, min_price, max_price):\n",
    "        item_names = []\n",
    "\n",
    "        for item in self.items.values():\n",
    "            name = item[\"name\"]\n",
    "            price = item[\"price\"]\n",
    "\n",
    "            if min_price <= price <= max_price:\n",
    "                item_names.append(name)\n",
    "\n",
    "        return item_names\n",
    "\n",
    "    def get_most_stocked_item(self):\n",
    "        most_stocked_item_name = None\n",
    "        largest_quantity = 0\n",
    "\n",
    "        for item in self.items.values():\n",
    "            name = item[\"name\"]\n",
    "            quantity = item[\"quantity\"]\n",
    "\n",
    "            if quantity > largest_quantity:\n",
    "                most_stocked_item_name = name\n",
    "                largest_quantity = quantity\n",
    "\n",
    "        return most_stocked_item_name"
   ]
  },
  {
   "cell_type": "code",
   "execution_count": null,
   "metadata": {},
   "outputs": [],
   "source": [
    "class Student:\n",
    "    all_students = []\n",
    "\n",
    "    def __init__(self, name, grade):\n",
    "        self.name = name\n",
    "        self._grade = grade\n",
    "        Student.all_students.append(self)\n",
    "\n",
    "    @property\n",
    "    def grade(self):\n",
    "        return self._grade\n",
    "\n",
    "    @grade.setter\n",
    "    def grade(self, new_grade):\n",
    "        if new_grade < 0 or new_grade > 100:\n",
    "            raise ValueError(\"New grade not in the accepted range of [0-100].\")\n",
    "        self._grade = new_grade\n",
    "\n",
    "    @classmethod\n",
    "    def get_best_student(cls):\n",
    "        best_student = None\n",
    "        for student in cls.all_students:\n",
    "            if best_student == None or best_student.grade < student.grade:\n",
    "                best_student = student\n",
    "        return best_student\n",
    "\n",
    "    @classmethod\n",
    "    def get_average_grade(cls):\n",
    "        return cls.calculate_average_grade(cls.all_students)\n",
    "        \n",
    "    @staticmethod\n",
    "    def calculate_average_grade(students):\n",
    "        if len(students) == 0:\n",
    "            return -1\n",
    "\n",
    "        total = 0\n",
    "        for student in students:\n",
    "            total += student.grade\n",
    "        return total / len(students)"
   ]
  },
  {
   "cell_type": "code",
   "execution_count": 214,
   "metadata": {},
   "outputs": [],
   "source": [
    "import math\n",
    "\n",
    "class Polygon:\n",
    "    def get_sides(self):\n",
    "        raise NotImplementedError\n",
    "\n",
    "    def get_area(self):\n",
    "        raise NotImplementedError\n",
    "\n",
    "    def get_perimeter(self):\n",
    "        return sum(self.get_sides())\n",
    "\n",
    "\n",
    "class Triangle(Polygon):\n",
    "    def __init__(self, side1, side2, side3):\n",
    "        self.sides = [side1, side2, side3]\n",
    "\n",
    "    def get_sides(self):\n",
    "        return self.sides\n",
    "\n",
    "    def get_area(self):\n",
    "        side1, side2, side3 = self.sides\n",
    "        semi_perimeter = (side1 + side2 + side3) / 2\n",
    "        return math.sqrt(\n",
    "            semi_perimeter * \n",
    "            (semi_perimeter - side1) * \n",
    "            (semi_perimeter - side2) * \n",
    "            (semi_perimeter - side3)\n",
    "        )\n",
    "\n",
    "\n",
    "class Rectangle(Polygon):\n",
    "    def __init__(self, width, height):\n",
    "        self.width = width\n",
    "        self.height = height\n",
    "\n",
    "    def get_sides(self):\n",
    "        return [self.width, self.height, self.width, self.height]\n",
    "\n",
    "    def get_area(self):\n",
    "        return self.width * self.height\n",
    "\n",
    "\n",
    "class Square(Rectangle):\n",
    "    def __init__(self, side_length):\n",
    "        super().__init__(side_length, side_length)\n"
   ]
  },
  {
   "cell_type": "code",
   "execution_count": 217,
   "metadata": {},
   "outputs": [],
   "source": [
    "import random\n",
    "\n",
    "class Deck:\n",
    "    suits = [\"H\", \"D\", \"C\", \"S\"]\n",
    "    values = [str(i) for i in range(2, 11)] + [\"J\", \"Q\", \"K\", \"A\"]\n",
    "\n",
    "    def __init__(self):\n",
    "        self.cards = []\n",
    "        self.fill_deck()\n",
    "\n",
    "    def fill_deck(self):\n",
    "        for suit in Deck.suits:\n",
    "            for value in Deck.values:\n",
    "                card = value + suit\n",
    "                self.cards.append(card)\n",
    "\n",
    "    def shuffle(self):\n",
    "        random.shuffle(self.cards)\n",
    "\n",
    "    def deal(self, n):\n",
    "        dealt_cards = []\n",
    "\n",
    "        for i in range(n):\n",
    "            if len(self.cards) == 0:\n",
    "                break\n",
    "\n",
    "            card = self.cards.pop()\n",
    "            dealt_cards.append(card)\n",
    "\n",
    "        return dealt_cards\n",
    "\n",
    "    def sort_by_suit(self):\n",
    "        cards_by_suit = {\"H\": [], \"D\": [], \"C\": [], \"S\": []}\n",
    "\n",
    "        for card in self.cards:\n",
    "            suit = card[-1]\n",
    "            cards_by_suit[suit].append(card)\n",
    "\n",
    "        self.cards = (\n",
    "            cards_by_suit[\"H\"] +\n",
    "            cards_by_suit[\"D\"] +\n",
    "            cards_by_suit[\"C\"] +\n",
    "            cards_by_suit[\"S\"]\n",
    "        )\n",
    "    \n",
    "    def contains(self, card):\n",
    "        return card in self.cards\n",
    "    \n",
    "    def copy(self):\n",
    "        new_deck = Deck()\n",
    "        new_deck.cards = self.cards[:]\n",
    "        return new_deck\n",
    "\n",
    "    def get_cards(self):\n",
    "        return self.cards[:]\n",
    "\n",
    "    def __len__(self):\n",
    "        return len(self.cards)\n",
    "    \n",
    "        "
   ]
  },
  {
   "cell_type": "code",
   "execution_count": 223,
   "metadata": {},
   "outputs": [],
   "source": [
    "class FileSystem:\n",
    "    def __init__(self):\n",
    "        self.root = Directory(\"/\")\n",
    "\n",
    "    def create_directory(self, path):\n",
    "        before_last_node, new_directory_name = self._extract_from_path(path)\n",
    "\n",
    "        new_directory = Directory(new_directory_name)\n",
    "        before_last_node.add_node(new_directory)\n",
    "\n",
    "    def create_file(self, path, contents):\n",
    "        before_last_node, new_file_name = self._extract_from_path(path)\n",
    "\n",
    "        new_file = File(new_file_name)\n",
    "        new_file.write_contents(contents)\n",
    "\n",
    "        before_last_node.add_node(new_file)\n",
    "\n",
    "    def read_file(self, path):\n",
    "        before_last_node, file_name = self._extract_from_path(path)\n",
    "        \n",
    "        if file_name not in before_last_node.children:\n",
    "            raise ValueError(f\"File not found: {file_name}.\")\n",
    "        \n",
    "        return before_last_node.children[file_name].contents\n",
    "\n",
    "    def delete_directory_or_file(self, path):\n",
    "        before_last_node, node_to_delete_name = self._extract_from_path(path)\n",
    "        \n",
    "        if node_to_delete_name not in before_last_node.children:\n",
    "            raise ValueError(f\"Node not found: {node_to_delete_name}\")\n",
    "        \n",
    "        before_last_node.delete_node(node_to_delete_name)\n",
    "\n",
    "    def size(self):\n",
    "        size = 0\n",
    "        nodes = [self.root]\n",
    "        while len(nodes) > 0:\n",
    "            current_node = nodes.pop()\n",
    "            if isinstance(current_node, File):\n",
    "                size += len(current_node)\n",
    "\n",
    "            if isinstance(current_node, Directory):\n",
    "                children = list(current_node.children.values())\n",
    "                nodes.extend(children)\n",
    "                continue\n",
    "        \n",
    "        return size\n",
    "\n",
    "    def __str__(self):\n",
    "        return f\"*** FileSystem ***\\n\" + self.root.__str__() + \"\\n***\"\n",
    "    \n",
    "    @staticmethod\n",
    "    def _validate_path(path):\n",
    "        if not path.startswith(\"/\"):\n",
    "            raise ValueError(\"Path should start with `/`.\")\n",
    "\n",
    "    def _extract_from_path(self, path):\n",
    "        FileSystem._validate_path(path)\n",
    "\n",
    "        path_node_names = path[1:].split(\"/\")\n",
    "        middle_node_names = path_node_names[:-1]\n",
    "        last_node_name = path_node_names[-1]\n",
    "\n",
    "        before_last_node = self._find_bottom_node(middle_node_names)\n",
    "\n",
    "        if not isinstance(before_last_node, Directory):\n",
    "            raise ValueError(f\"{before_last_node.name} isn't a directory.\")\n",
    "        \n",
    "        return (before_last_node, last_node_name)\n",
    "\n",
    "    def _find_bottom_node(self, node_names):\n",
    "        current_node = self.root\n",
    "        for node_name in node_names:\n",
    "            if not isinstance(current_node, Directory):\n",
    "                raise ValueError(f\"{current_node.name} isn't a directory.\")\n",
    "            \n",
    "            if node_name not in current_node.children:\n",
    "                raise ValueError(f\"Node not found: {node_name}.\")\n",
    "            \n",
    "            current_node = current_node.children[node_name]\n",
    "        \n",
    "        return current_node\n",
    "\n",
    "class Node:\n",
    "    def __init__(self, name):\n",
    "        self.name = name\n",
    "\n",
    "    def __str__(self):\n",
    "        return f\"{self.name} ({type(self).__name__})\"\n",
    "\n",
    "\n",
    "class Directory(Node):\n",
    "    def __init__(self, name):\n",
    "        super().__init__(name)\n",
    "        self.children = {}\n",
    "\n",
    "    def add_node(self, node):\n",
    "        self.children[node.name] = node\n",
    "\n",
    "    def delete_node(self, name):\n",
    "        del self.children[name]\n",
    "\n",
    "    def __str__(self):\n",
    "        string = super().__str__()\n",
    "\n",
    "        children_strings = []\n",
    "        for child in list(self.children.values()):\n",
    "            child_string = child.__str__().rstrip()\n",
    "            children_strings.append(child_string)\n",
    "\n",
    "        children_combined_string = indent(\"\\n\".join(children_strings), 2)\n",
    "        string += \"\\n\" + children_combined_string.rstrip()\n",
    "        return string\n",
    "\n",
    "\n",
    "class File(Node):\n",
    "    def __init__(self, name):\n",
    "        super().__init__(name)\n",
    "        self.contents = \"\"\n",
    "\n",
    "    def write_contents(self, contents):\n",
    "        self.contents = contents\n",
    "\n",
    "    def __len__(self):\n",
    "        return len(self.contents)\n",
    "\n",
    "    def __str__(self):\n",
    "        return super().__str__() + f\" | {len(self)} characters\"\n",
    "\n",
    "\n",
    "def indent(string, number_of_spaces):\n",
    "    spaces = \" \" * number_of_spaces\n",
    "    lines = string.split(\"\\n\")\n",
    "    indented_lines = [spaces + line for line in lines]\n",
    "    return \"\\n\".join(indented_lines)\n"
   ]
  },
  {
   "cell_type": "code",
   "execution_count": 227,
   "metadata": {},
   "outputs": [
    {
     "name": "stdout",
     "output_type": "stream",
     "text": [
      "pass test\n"
     ]
    }
   ],
   "source": [
    "fs = FileSystem()\n",
    "fs.create_directory(\"/dir1\")\n",
    "fs.create_directory(\"/dir2\")\n",
    "fs.create_directory(\"/dir1/dir3\")\n",
    "try:\n",
    "  fs.create_directory(\"/dir3/dir4\")\n",
    "except ValueError:\n",
    "  print(\"pass test\")"
   ]
  },
  {
   "cell_type": "code",
   "execution_count": 229,
   "metadata": {},
   "outputs": [
    {
     "name": "stdout",
     "output_type": "stream",
     "text": [
      "pass test\n"
     ]
    }
   ],
   "source": [
    "fs = FileSystem()\n",
    "fs.create_file(\"/tim.txt\", \"Tim is great!\")\n",
    "try:\n",
    "  fs.create_file(\"/dir1/simon.txt\", \"ProgrammingExpert is fun!\")\n",
    "except ValueError:\n",
    "  pass\n",
    "\n",
    "assert fs.read_file(\"/tim.txt\") == \"Tim is great!\"\n",
    "print(\"pass test\")"
   ]
  },
  {
   "cell_type": "code",
   "execution_count": 230,
   "metadata": {},
   "outputs": [
    {
     "name": "stdout",
     "output_type": "stream",
     "text": [
      "pass test\n"
     ]
    }
   ],
   "source": [
    "fs = FileSystem()\n",
    "fs.create_file(\"/tim.txt\", \"12345\")\n",
    "assert fs.size() == 5\n",
    "fs.create_file(\"/alex.txt\", \"67890\")\n",
    "assert fs.size() == 10\n",
    "print(\"pass test\")"
   ]
  },
  {
   "cell_type": "code",
   "execution_count": 232,
   "metadata": {},
   "outputs": [
    {
     "name": "stdout",
     "output_type": "stream",
     "text": [
      "pass test\n"
     ]
    }
   ],
   "source": [
    "fs = FileSystem()\n",
    "fs.create_directory(\"/dir1\")\n",
    "fs.create_directory(\"/dir1/dir2\")\n",
    "fs.create_directory(\"/dir1/dir2/dir3\")\n",
    "fs.create_file(\"/dir1/dir2/file1.txt\", \"1\")\n",
    "fs.create_file(\"/dir1/dir2/dir3/file2.txt\", \"1\")\n",
    "assert fs.size() == 2\n",
    "print(\"pass test\")"
   ]
  },
  {
   "cell_type": "code",
   "execution_count": 233,
   "metadata": {},
   "outputs": [
    {
     "name": "stdout",
     "output_type": "stream",
     "text": [
      "pass test\n"
     ]
    }
   ],
   "source": [
    "\n",
    "fs = FileSystem()\n",
    "try:\n",
    "  fs.delete_directory_or_file(\"/dir1\")\n",
    "except ValueError:\n",
    "  pass\n",
    "\n",
    "fs.create_directory(\"/dir1\")\n",
    "fs.create_file(\"/dir1/simon.txt\", \"ProgrammingExpert is fun!\")\n",
    "assert fs.size() == 25\n",
    "\n",
    "try:\n",
    "  fs.delete_directory_or_file(\"/dir2\")\n",
    "except ValueError:\n",
    "  pass\n",
    "\n",
    "fs.delete_directory_or_file(\"/dir1\")\n",
    "assert fs.size() == 0\n",
    "\n",
    "print(\"pass test\")"
   ]
  },
  {
   "cell_type": "code",
   "execution_count": 234,
   "metadata": {},
   "outputs": [
    {
     "name": "stdout",
     "output_type": "stream",
     "text": [
      "pass test\n"
     ]
    }
   ],
   "source": [
    "fs = FileSystem()\n",
    "fs.create_directory(\"/dir1\")\n",
    "fs.create_directory(\"/dir1/dir2\")\n",
    "fs.create_file(\"/dir1/dir2/file1.html\", \"Hello World\")\n",
    "assert fs.size() == 11\n",
    "assert fs.read_file(\"/dir1/dir2/file1.html\") == \"Hello World\"\n",
    "fs.delete_directory_or_file(\"/dir1\")\n",
    "assert fs.size() == 0\n",
    "\n",
    "try:\n",
    "  fs.read_file(\"/dir1/dir2/file1.html\")\n",
    "except ValueError:\n",
    "  pass\n",
    "\n",
    "print(\"pass test\")"
   ]
  }
 ],
 "metadata": {
  "interpreter": {
   "hash": "20ac7aad763b689ebdaff2f53a3073c7ed55a0f51860968fbf5603f714378c4e"
  },
  "kernelspec": {
   "display_name": "Python 3.10.0 64-bit",
   "language": "python",
   "name": "python3"
  },
  "language_info": {
   "codemirror_mode": {
    "name": "ipython",
    "version": 3
   },
   "file_extension": ".py",
   "mimetype": "text/x-python",
   "name": "python",
   "nbconvert_exporter": "python",
   "pygments_lexer": "ipython3",
   "version": "3.10.4"
  },
  "orig_nbformat": 4
 },
 "nbformat": 4,
 "nbformat_minor": 2
}
