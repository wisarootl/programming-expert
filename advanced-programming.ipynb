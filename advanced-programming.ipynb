{
 "cells": [
  {
   "cell_type": "markdown",
   "metadata": {},
   "source": [
    "# Modules and Packages"
   ]
  },
  {
   "cell_type": "markdown",
   "metadata": {},
   "source": [
    "Main Module : is the one that is invoked or run directly. Python will automatically set the __name__ variable of that module to the string \"__main__\"\n",
    "\n",
    "Module : Python file (something ending in .py)\n",
    "\n",
    "Package : directory that contains a special file named __init__.py"
   ]
  },
  {
   "cell_type": "markdown",
   "metadata": {},
   "source": [
    "# Files"
   ]
  },
  {
   "cell_type": "code",
   "execution_count": 4,
   "metadata": {},
   "outputs": [
    {
     "name": "stdout",
     "output_type": "stream",
     "text": [
      "hello world!\n"
     ]
    }
   ],
   "source": [
    "file = open(\"file.txt\", \"r\")\n",
    "print(file.read())\n",
    "file.close()"
   ]
  },
  {
   "cell_type": "code",
   "execution_count": 8,
   "metadata": {},
   "outputs": [
    {
     "name": "stdout",
     "output_type": "stream",
     "text": [
      "['hello world!']\n"
     ]
    }
   ],
   "source": [
    "with open(\"file.txt\", \"r\") as file:\n",
    "  line1 = file.readlines()[0]\n",
    "  print([line1.strip()])"
   ]
  },
  {
   "cell_type": "code",
   "execution_count": 53,
   "metadata": {},
   "outputs": [
    {
     "name": "stdout",
     "output_type": "stream",
     "text": [
      "hello\n",
      "w\n"
     ]
    }
   ],
   "source": [
    "# \"w\" = write (overwrite)\n",
    "# \"a\" = append (wrtite the next line of existing content)\n",
    "# \"r+\" = overwrite and remain exsiting content\n",
    "\n",
    "with open(\"file2.txt\", \"r+\") as file:\n",
    "  # count = 0\n",
    "  # for line in file:\n",
    "  #   print(line, end=\"\")\n",
    "  \n",
    "  print(file.read(7))"
   ]
  },
  {
   "cell_type": "markdown",
   "metadata": {},
   "source": [
    "# *args and **kwargs"
   ]
  },
  {
   "cell_type": "code",
   "execution_count": 60,
   "metadata": {},
   "outputs": [
    {
     "name": "stdout",
     "output_type": "stream",
     "text": [
      "(1, 2, 3)\n",
      "{'k': 2, 'a': 2}\n",
      "(1, 2, 3, 4)\n",
      "{}\n",
      "(1,)\n",
      "{}\n"
     ]
    }
   ],
   "source": [
    "def sum_items(*args, **kwargs):\n",
    "  print(args)\n",
    "  print(kwargs)\n",
    "\n",
    "sum_items(1, 2, 3, k=2, a=2)\n",
    "sum_items(1, 2, 3, 4)\n",
    "sum_items(1)"
   ]
  },
  {
   "cell_type": "code",
   "execution_count": 65,
   "metadata": {},
   "outputs": [],
   "source": [
    "def sum_items(a, b, c):\n",
    "  print(a, b, c)\n",
    "  return a + b + c"
   ]
  },
  {
   "cell_type": "code",
   "execution_count": 66,
   "metadata": {},
   "outputs": [
    {
     "name": "stdout",
     "output_type": "stream",
     "text": [
      "4 5 7\n",
      "16\n"
     ]
    }
   ],
   "source": [
    "args = [4, 5, 7]\n",
    "x = sum_items(*args)\n",
    "print(x)"
   ]
  },
  {
   "cell_type": "code",
   "execution_count": 67,
   "metadata": {},
   "outputs": [],
   "source": [
    "def sum_items(a, b, c):\n",
    "  print(a, b, c)\n",
    "  return a + b + c"
   ]
  },
  {
   "cell_type": "code",
   "execution_count": 68,
   "metadata": {},
   "outputs": [
    {
     "name": "stdout",
     "output_type": "stream",
     "text": [
      "a c b\n",
      "acb\n"
     ]
    }
   ],
   "source": [
    "kwargs = {'a':5, 'c':10, 'b':5}\n",
    "x = sum_items(*kwargs)\n",
    "print(x)"
   ]
  },
  {
   "cell_type": "markdown",
   "metadata": {},
   "source": [
    "# Lambda"
   ]
  },
  {
   "cell_type": "code",
   "execution_count": 78,
   "metadata": {},
   "outputs": [
    {
     "data": {
      "text/plain": [
       "3"
      ]
     },
     "execution_count": 78,
     "metadata": {},
     "output_type": "execute_result"
    }
   ],
   "source": [
    "func = lambda x, y, z=0: x + y + z\n",
    "func(1, 2)"
   ]
  },
  {
   "cell_type": "code",
   "execution_count": 80,
   "metadata": {},
   "outputs": [
    {
     "data": {
      "text/plain": [
       "[(-2, -4), (0, 0), (1, 2), (3, 4)]"
      ]
     },
     "execution_count": 80,
     "metadata": {},
     "output_type": "execute_result"
    }
   ],
   "source": [
    "lst = [(1, 2), (-2, -4), (3, 4), (0, 0)]\n",
    "lst.sort(key=lambda x: x[1])\n",
    "lst"
   ]
  },
  {
   "cell_type": "code",
   "execution_count": 84,
   "metadata": {},
   "outputs": [
    {
     "name": "stdout",
     "output_type": "stream",
     "text": [
      "<function <lambda>.<locals>.<lambda> at 0x0000025D57DEF5B0>\n",
      "8\n"
     ]
    }
   ],
   "source": [
    "mul = lambda x: lambda y: x * y\n",
    "result = mul(2)\n",
    "print(result)\n",
    "print(result(4))"
   ]
  },
  {
   "cell_type": "code",
   "execution_count": 86,
   "metadata": {},
   "outputs": [
    {
     "name": "stdout",
     "output_type": "stream",
     "text": [
      "20\n"
     ]
    }
   ],
   "source": [
    "def mul(x):\n",
    "  def mul2(y):\n",
    "    return x * y\n",
    "  \n",
    "  return mul2\n",
    "\n",
    "result = mul(5)(4)\n",
    "print(result)"
   ]
  },
  {
   "cell_type": "markdown",
   "metadata": {},
   "source": [
    "# Map and Filter"
   ]
  },
  {
   "cell_type": "code",
   "execution_count": 94,
   "metadata": {},
   "outputs": [
    {
     "name": "stdout",
     "output_type": "stream",
     "text": [
      "[1, 4, 9, 16, 25, 36, 49]\n"
     ]
    }
   ],
   "source": [
    "lst = [i for i in range(1, 8)]\n",
    "new_lst = list(map(lambda x: x**2, lst))\n",
    "print(new_lst)"
   ]
  },
  {
   "cell_type": "code",
   "execution_count": 96,
   "metadata": {},
   "outputs": [
    {
     "name": "stdout",
     "output_type": "stream",
     "text": [
      "[[4, 5, 6], [3, 4]]\n"
     ]
    }
   ],
   "source": [
    "lst = [[1, 2, 3], [4, 5, 6], [1, 2, 3], [3, 4]]\n",
    "new_lst = list(filter(lambda x: sum(x) > 6, lst))\n",
    "print(new_lst)"
   ]
  },
  {
   "cell_type": "code",
   "execution_count": 97,
   "metadata": {},
   "outputs": [
    {
     "name": "stdout",
     "output_type": "stream",
     "text": [
      "[6, 6]\n"
     ]
    }
   ],
   "source": [
    "lst = [[1, 2, 3], [4, 5, 6], [1, 2, 3], [3, 4]]\n",
    "new_lst = filter(lambda y: y% 2 == 0, map(lambda x: sum(x), lst))\n",
    "print(list(new_lst))"
   ]
  },
  {
   "cell_type": "markdown",
   "metadata": {},
   "source": [
    "## Example Map/Filter"
   ]
  },
  {
   "cell_type": "code",
   "execution_count": 26,
   "metadata": {},
   "outputs": [
    {
     "name": "stdout",
     "output_type": "stream",
     "text": [
      "[4, 16, 36, 100]\n"
     ]
    }
   ],
   "source": [
    "def positive_even_squares(*args):\n",
    "    flatten_lst = [num for lst in args for num in lst]\n",
    "    positive_even_nums = filter(lambda x: x % 2 == 0 and x > 0, flatten_lst)\n",
    "    \n",
    "    return list(map(lambda x: x**2, positive_even_nums))\n",
    "\n",
    "args = [[-5, 2, 3, 4, 5], [1, 3, 5, 6, 7], [-9, -8, 10]]\n",
    "expected = [4, 16, 36, 100]\n",
    "\n",
    "output = positive_even_squares(*args)\n",
    "print(output)"
   ]
  },
  {
   "cell_type": "markdown",
   "metadata": {},
   "source": [
    "# Function Closures"
   ]
  },
  {
   "cell_type": "code",
   "execution_count": 8,
   "metadata": {},
   "outputs": [
    {
     "name": "stdout",
     "output_type": "stream",
     "text": [
      "5\n"
     ]
    }
   ],
   "source": [
    "def outer(x):\n",
    "\n",
    "  lst = []\n",
    "  \n",
    "  def inner():\n",
    "    lst.append(value)\n",
    "    print(x)\n",
    "  \n",
    "  return inner\n",
    "\n",
    "func = outer(5)\n",
    "func()\n"
   ]
  },
  {
   "cell_type": "code",
   "execution_count": 10,
   "metadata": {},
   "outputs": [
    {
     "name": "stdout",
     "output_type": "stream",
     "text": [
      "3\n"
     ]
    }
   ],
   "source": [
    "def counter(start):\n",
    "  count = start\n",
    "\n",
    "  def increment(value):\n",
    "    nonlocal count\n",
    "    count += value\n",
    "    return count\n",
    "  \n",
    "  return increment\n",
    "\n",
    "count = counter(2)\n",
    "print(count(1))"
   ]
  },
  {
   "cell_type": "markdown",
   "metadata": {},
   "source": [
    "# Decorators\n"
   ]
  },
  {
   "cell_type": "code",
   "execution_count": 15,
   "metadata": {},
   "outputs": [
    {
     "name": "stdout",
     "output_type": "stream",
     "text": [
      "Wrapper function called func! <function outer.<locals>.inner at 0x000001F4C8E67640>\n",
      "foo\n"
     ]
    }
   ],
   "source": [
    "def decorator(func):\n",
    "  def wrapper(*args, **kwargs):\n",
    "    print(\"Wrapper function called func!\", x)\n",
    "    result = func(*args, **kwargs)\n",
    "    return result\n",
    "  \n",
    "  return wrapper\n",
    "\n",
    "@decorator\n",
    "def foo(x, y, z):\n",
    "  print(\"foo\")\n",
    "\n",
    "# @decorator : foo = decorator(foo)\n",
    "\n",
    "foo(1, 2, 3)"
   ]
  },
  {
   "cell_type": "code",
   "execution_count": null,
   "metadata": {},
   "outputs": [],
   "source": [
    "import time\n",
    "\n",
    "def timer(func):\n",
    "  def wrapper(*args, *kwargs):\n",
    "    start_time = time.time()\n",
    "    result = func(*args, **kwargs)\n",
    "    end_time = time.time()\n",
    "\n",
    "    total_time = end_time - start_time\n",
    "    print(\"Time taken to execute:\", total_time)\n",
    "    return result\n",
    "  \n",
    "  return wrapper\n",
    "\n",
    "def pretty_printer(func):\n",
    "  def wrapper(*args, **kwargs):\n",
    "    print('---')\n",
    "    result = func(*args, **kwargs)\n",
    "    print('---')\n",
    "    return result\n",
    "  \n",
    "  return wrapper\n",
    "\n",
    "\n",
    "@timer\n",
    "@pretty_printer\n",
    "def print_numbers(num):\n",
    "  for _ in range(num):\n",
    "    pass\n",
    "\n",
    "# equivalent to decorator\n",
    "# print_numbers = timer(pretty_print(print_numbers))\n",
    "\n",
    "print_numbers(10000)\n",
    "\n",
    "\n"
   ]
  },
  {
   "cell_type": "markdown",
   "metadata": {},
   "source": [
    "## example Decorators"
   ]
  },
  {
   "cell_type": "code",
   "execution_count": 21,
   "metadata": {},
   "outputs": [],
   "source": [
    "def flatten_lists(func):\n",
    "    def wrapper(*args):\n",
    "        new_args = []\n",
    "        print('init :', args)\n",
    "        for arg in args:\n",
    "            if isinstance(arg, list):\n",
    "                new_args.extend(arg)\n",
    "            else:\n",
    "                new_args.append(arg)\n",
    "        print('flatten :', new_args)\n",
    "        result = func(*new_args)\n",
    "        return result\n",
    "\n",
    "    return wrapper\n",
    "\n",
    "def convert_strings_to_ints(func):\n",
    "    def wrapper(*args):\n",
    "        new_args = []\n",
    "        for arg in args:\n",
    "            if isinstance(arg, str) and arg.isdigit():\n",
    "                new_args.append(int(arg))\n",
    "            else:\n",
    "                new_args.append(arg)\n",
    "        print('convert :', new_args)\n",
    "\n",
    "        result = func(*new_args)\n",
    "        return result\n",
    "\n",
    "    return wrapper\n",
    "\n",
    "def filter_integers(func):\n",
    "    def wrapper(*args):\n",
    "        new_args = []\n",
    "        for arg in args:\n",
    "            if isinstance(arg, int):\n",
    "                new_args.append(arg)\n",
    "        print('filter :', new_args)\n",
    "\n",
    "        result = func(*new_args)\n",
    "        return result\n",
    "\n",
    "    return wrapper\n",
    "\n",
    "@flatten_lists\n",
    "@convert_strings_to_ints\n",
    "@filter_integers\n",
    "def integer_sum(*args):\n",
    "    print('sum :', args)\n",
    "    return sum(args)"
   ]
  },
  {
   "cell_type": "code",
   "execution_count": 22,
   "metadata": {},
   "outputs": [
    {
     "name": "stdout",
     "output_type": "stream",
     "text": [
      "init : ('1', '2', -0.9, 4, [5, 'hi', '3'])\n",
      "flatten : ['1', '2', -0.9, 4, 5, 'hi', '3']\n",
      "convert : [1, 2, -0.9, 4, 5, 'hi', 3]\n",
      "filter : [1, 2, 4, 5, 3]\n",
      "sum : (1, 2, 4, 5, 3)\n",
      "15\n"
     ]
    }
   ],
   "source": [
    "args = ['1', '2', -0.9, 4, [5, 'hi', '3']]\n",
    "expected = 15\n",
    "\n",
    "output = integer_sum(*args)\n",
    "print(output)\n",
    "assert output == expected"
   ]
  },
  {
   "cell_type": "markdown",
   "metadata": {},
   "source": [
    "# Iterators"
   ]
  },
  {
   "cell_type": "code",
   "execution_count": 38,
   "metadata": {},
   "outputs": [
    {
     "name": "stdout",
     "output_type": "stream",
     "text": [
      "1\n",
      "2\n",
      "3\n"
     ]
    }
   ],
   "source": [
    "x = [1, 2, 3]\n",
    "\n",
    "x_iter = iter(x)\n",
    "# equivalent to x_iter = x.__iter__()\n",
    "\n",
    "while True:\n",
    "  try:\n",
    "    print(next(x_iter))\n",
    "    # print(x_iter.__next__())\n",
    "  except StopIteration:\n",
    "    break\n",
    "\n",
    "# equivalent to for i in x:"
   ]
  },
  {
   "cell_type": "code",
   "execution_count": 39,
   "metadata": {},
   "outputs": [
    {
     "name": "stdout",
     "output_type": "stream",
     "text": [
      "i\n",
      "i\n",
      "t\n"
     ]
    }
   ],
   "source": [
    "string = \"iterable\"\n",
    "string_itr = iter(string)\n",
    "print(string.__iter__().__next__())\n",
    "print(next(string_itr))\n",
    "\n",
    "for char in string_itr:\n",
    "    print(char)\n",
    "    break"
   ]
  },
  {
   "cell_type": "code",
   "execution_count": 40,
   "metadata": {},
   "outputs": [],
   "source": [
    "class Range:\n",
    "    def __init__(self, start, stop, step):\n",
    "        self.start = start\n",
    "        self.stop = stop\n",
    "        self.step = step\n",
    "\n",
    "    def __iter__(self):\n",
    "        self.current_value = self.start\n",
    "        return self\n",
    "\n",
    "    def __next__(self):\n",
    "        if self.step > 0 and self.current_value >= self.stop:\n",
    "            raise StopIteration\n",
    "        elif self.step < 0 and self.current_value <= self.stop:\n",
    "            raise StopIteration\n",
    "\n",
    "        self.current_value += self.step\n",
    "\n",
    "        return self.current_value - self.step"
   ]
  },
  {
   "cell_type": "code",
   "execution_count": 13,
   "metadata": {},
   "outputs": [
    {
     "name": "stdout",
     "output_type": "stream",
     "text": [
      "2\n",
      "3\n",
      "4\n"
     ]
    }
   ],
   "source": [
    "r = Range(2, 5, 1)\n",
    "for x in r:\n",
    "  print(x)"
   ]
  },
  {
   "cell_type": "code",
   "execution_count": 16,
   "metadata": {},
   "outputs": [
    {
     "name": "stdout",
     "output_type": "stream",
     "text": [
      "-2\n",
      "-3\n",
      "-4\n"
     ]
    }
   ],
   "source": [
    "r = Range(-2, -5, -1)\n",
    "for x in r:\n",
    "  print(x)"
   ]
  },
  {
   "cell_type": "markdown",
   "metadata": {},
   "source": [
    "# Generator"
   ]
  },
  {
   "cell_type": "markdown",
   "metadata": {},
   "source": [
    "Generator : special type of iterator"
   ]
  },
  {
   "cell_type": "code",
   "execution_count": 37,
   "metadata": {},
   "outputs": [
    {
     "name": "stdout",
     "output_type": "stream",
     "text": [
      "<class 'function'>\n",
      "<class 'generator'>\n",
      "1\n",
      "2\n",
      "3\n",
      "pass\n"
     ]
    }
   ],
   "source": [
    "def gen():\n",
    "  yield 1\n",
    "  yield 2\n",
    "  yield 3\n",
    "\n",
    "print(type(gen))\n",
    "print(type(gen()))\n",
    "\n",
    "itr = gen()\n",
    "print(next(itr))\n",
    "print(next(itr))\n",
    "print(next(itr))\n",
    "try:\n",
    "  print(next(itr))\n",
    "except StopIteration:\n",
    "  print('pass')"
   ]
  },
  {
   "cell_type": "code",
   "execution_count": 28,
   "metadata": {},
   "outputs": [],
   "source": [
    "def fib(n):\n",
    "  last = 1\n",
    "  second_last = 1\n",
    "  current = 3\n",
    "\n",
    "  while current <= n:\n",
    "    num = last + second_last\n",
    "    yield num\n",
    "    second_last = last\n",
    "    last = num\n",
    "    current += 1"
   ]
  },
  {
   "cell_type": "code",
   "execution_count": 31,
   "metadata": {},
   "outputs": [
    {
     "name": "stdout",
     "output_type": "stream",
     "text": [
      "2\n",
      "3\n",
      "5\n",
      "8\n",
      "13\n",
      "21\n",
      "34\n",
      "55\n"
     ]
    }
   ],
   "source": [
    "for val in fib(10):\n",
    "  print(val)"
   ]
  },
  {
   "cell_type": "code",
   "execution_count": 33,
   "metadata": {},
   "outputs": [],
   "source": [
    "def new_range(start, stop, step):\n",
    "    current = start\n",
    "\n",
    "    while True:\n",
    "        if step < 0 and current <= stop:\n",
    "            break\n",
    "        if step > 0 and current >= stop:\n",
    "            break\n",
    "\n",
    "        yield current\n",
    "        current += step\n",
    "\n",
    "# def new_range(start, stop, step):\n",
    "#     for i in range(start, stop, step):\n",
    "#         yield i"
   ]
  },
  {
   "cell_type": "code",
   "execution_count": 34,
   "metadata": {},
   "outputs": [
    {
     "name": "stdout",
     "output_type": "stream",
     "text": [
      "2\n",
      "3\n",
      "4\n"
     ]
    }
   ],
   "source": [
    "r = Range(2, 5, 1)\n",
    "for x in r:\n",
    "  print(x)"
   ]
  },
  {
   "cell_type": "code",
   "execution_count": 35,
   "metadata": {},
   "outputs": [
    {
     "name": "stdout",
     "output_type": "stream",
     "text": [
      "-2\n",
      "-3\n",
      "-4\n"
     ]
    }
   ],
   "source": [
    "r = Range(-2, -5, -1)\n",
    "for x in r:\n",
    "  print(x)"
   ]
  },
  {
   "cell_type": "markdown",
   "metadata": {},
   "source": [
    "## example Generator"
   ]
  },
  {
   "cell_type": "code",
   "execution_count": 27,
   "metadata": {},
   "outputs": [],
   "source": [
    "def generate_string(string, frequency):\n",
    "    for char in string:\n",
    "        for _ in range(frequency):\n",
    "            yield char\n",
    "\n",
    "\n",
    "class GenerateString:\n",
    "    def __init__(self, string, frequency):\n",
    "        self.string = string\n",
    "        self.frequency = frequency\n",
    "\n",
    "    def __iter__(self):\n",
    "        self.current_char_index = 0\n",
    "        self.char_counter = 0\n",
    "        return self\n",
    "\n",
    "    def __next__(self):\n",
    "        if self.char_counter >= self.frequency:\n",
    "            self.char_counter = 0\n",
    "            self.current_char_index += 1\n",
    "\n",
    "        if self.current_char_index >= len(self.string):\n",
    "            raise StopIteration\n",
    "\n",
    "        self.char_counter += 1\n",
    "        return self.string[self.current_char_index]"
   ]
  },
  {
   "cell_type": "code",
   "execution_count": 30,
   "metadata": {},
   "outputs": [
    {
     "name": "stdout",
     "output_type": "stream",
     "text": [
      "hhheeellllllooo\n",
      "hhheeellllllooo"
     ]
    }
   ],
   "source": [
    "string = \"hello\"\n",
    "frequency = 3\n",
    "\n",
    "for char in generate_string(string, frequency):\n",
    "  print(char, end=\"\")\n",
    "print()\n",
    "\n",
    "for char in GenerateString(string, frequency):\n",
    "  print(char, end=\"\")"
   ]
  },
  {
   "cell_type": "markdown",
   "metadata": {},
   "source": [
    "# Compilers and Interpreters"
   ]
  },
  {
   "cell_type": "markdown",
   "metadata": {},
   "source": [
    "Source Code ===> (Complier) ===> Bytecode ===> (Interpreter) ===> Machine Code (Ran by CPU)"
   ]
  },
  {
   "cell_type": "markdown",
   "metadata": {},
   "source": [
    "Compiler : is a program that takes in source code (the code that we, humans, write) and transforms it into code that a machine can interpret (bytecode) or execute (binary code).\n",
    "\n",
    "Interpreter : is a program that is capable of translating code (typically bytecode) into machine code that can be ran and executed by the CPU (central processing unit). Python code is first compiled into bytecode, that bytecode is then passed to the interpreter where it is interpreted and executed.\n",
    "\n",
    "Source Code :  is the code that the programmers write and read.\n",
    "\n",
    "Bytecode : is program code that has been compiled from source code into a lower level language that can be understood by an interpreter."
   ]
  },
  {
   "cell_type": "markdown",
   "metadata": {},
   "source": [
    "# Threads And Processes"
   ]
  },
  {
   "cell_type": "markdown",
   "metadata": {},
   "source": [
    "Thread : flow of execution of your program. By default, Python will run your program in a single thread, the main thread, which will execute your Python code line by line.\n",
    "\n",
    "\n",
    "Process : is an application or program that is running on your computer. Processes are allocated their own memory space and always contain at least one thread, but may be split into multiple threads that are executing concurrently.\n",
    "\n",
    "Concurrency : Concurrency refers to the ability for parts of a program, application or algorithm (i.e multiple threads) to be executed simultaneously. (CPU only execute 1 threads at a time but switch among many threads)\n",
    "\n",
    "Parallelism : refers to several computations occur at the same time. Parallel programs utilize multiple logical processing cores of your CPU to increase speed. This is different from a concurrent program that may only utilize a single logical CPU core."
   ]
  },
  {
   "cell_type": "markdown",
   "metadata": {},
   "source": [
    "# Python Global Interpreter Lock"
   ]
  },
  {
   "cell_type": "markdown",
   "metadata": {},
   "source": [
    "Python global interpreter lock : disallows multiple threads to run simultaneously (in parallel)"
   ]
  },
  {
   "cell_type": "markdown",
   "metadata": {},
   "source": [
    "Mutex : is a mutually exclusive lock that controls the access to a section of code. Mutex's are typically used in multi-threaded programs when a section of code should only be executed by one thread at a time. If one thread has aquired the mutex all other threads must wait until that thread releases it before they can execute that locked section of code"
   ]
  },
  {
   "cell_type": "markdown",
   "metadata": {},
   "source": [
    "# Threading"
   ]
  },
  {
   "cell_type": "code",
   "execution_count": 69,
   "metadata": {},
   "outputs": [
    {
     "name": "stdout",
     "output_type": "stream",
     "text": [
      "main thread\n",
      "run 1\n",
      "run 2\n"
     ]
    }
   ],
   "source": [
    "import threading\n",
    "from time import sleep\n",
    "\n",
    "\n",
    "def run(content, delay=1):\n",
    "    sleep(delay)\n",
    "    print(content)\n",
    "\n",
    "\n",
    "thread1 = threading.Thread(target=run, args=(\"run 1\", 1))\n",
    "thread2 = threading.Thread(target=run, args=(\"run 2\", 1))\n",
    "thread1.start()\n",
    "print(\"main thread\")\n",
    "thread1.join() # wait thread1 to finish before go to another thread\n",
    "thread2.start()"
   ]
  },
  {
   "cell_type": "code",
   "execution_count": 70,
   "metadata": {},
   "outputs": [
    {
     "name": "stdout",
     "output_type": "stream",
     "text": [
      "8\n",
      "run 1\n",
      "done\n",
      "run 2\n"
     ]
    }
   ],
   "source": [
    "thread1 = threading.Thread(target=run, args=(\"run 1\", 1))\n",
    "thread2 = threading.Thread(target=run, args=(\"run 2\", 2))\n",
    "thread1.start()\n",
    "thread2.start()\n",
    "print(threading.active_count())\n",
    "thread1.join() # wait thread1 to finish before go to another thread\n",
    "# thread2.join()\n",
    "print(\"done\")"
   ]
  },
  {
   "cell_type": "code",
   "execution_count": 87,
   "metadata": {},
   "outputs": [
    {
     "name": "stdout",
     "output_type": "stream",
     "text": [
      "1\n",
      "2\n",
      "3\n",
      "4\n",
      "5\n"
     ]
    }
   ],
   "source": [
    "def print_values(values, delay):\n",
    "  for item in values:\n",
    "    print(item)\n",
    "    sleep(delay)\n",
    "\n",
    "thread1 = threading.Thread(target=print_values, args=([1, 3, 5], 0.2))\n",
    "thread2 = threading.Thread(target=print_values, args=([2, 4], 0.3))\n",
    "thread1.start()\n",
    "thread2.start()"
   ]
  },
  {
   "cell_type": "code",
   "execution_count": 98,
   "metadata": {},
   "outputs": [
    {
     "name": "stdout",
     "output_type": "stream",
     "text": [
      "start t1\n",
      "lock t1\n",
      "main1\n",
      "start t2\n",
      "main2\n",
      "t1\n",
      "lock t2\n",
      "t2\n"
     ]
    }
   ],
   "source": [
    "from threading import Lock, Thread\n",
    "\n",
    "# mutex = Lock()\n",
    "# mutex.acquire()\n",
    "# mutex.release()\n",
    "\n",
    "def t1(lock):\n",
    "  print('start t1')\n",
    "  lock.acquire()\n",
    "  print('lock t1')\n",
    "  sleep(1)\n",
    "  print(\"t1\")\n",
    "  lock.release()\n",
    "\n",
    "def t2(lock):\n",
    "  print('start t2')\n",
    "  lock.acquire()\n",
    "  print('lock t2')\n",
    "  sleep(1)\n",
    "  print(\"t2\")\n",
    "  lock.release()\n",
    "\n",
    "lock = Lock()\n",
    "thread1 = Thread(target=t1, args=(lock,))\n",
    "thread2 = Thread(target=t2, args=(lock,))\n",
    "\n",
    "thread1.start()\n",
    "print('main1')\n",
    "thread2.start()\n",
    "print('main2')"
   ]
  },
  {
   "cell_type": "code",
   "execution_count": 129,
   "metadata": {},
   "outputs": [
    {
     "name": "stdout",
     "output_type": "stream",
     "text": [
      "t1 waiting for lock\n",
      "1\n",
      "t1 waiting for lock\n",
      "t2 waiting for lock\n",
      "2\n",
      "t2 waiting for lock\n",
      "3\n",
      "t1 waiting for lock\n",
      "4\n",
      "5\n"
     ]
    }
   ],
   "source": [
    "def print_values(values, start_lock, end_lock, name):\n",
    "  for item in values:\n",
    "    print(f\"{name} waiting for lock\")\n",
    "    start_lock.acquire()\n",
    "    print(item)\n",
    "    end_lock.release()\n",
    "\n",
    "lock1 = Lock()\n",
    "lock2 = Lock()\n",
    "lock2.acquire()\n",
    "thread1 = Thread(target=print_values, args=([1, 3, 5], lock1, lock2, \"t1\"))\n",
    "thread2 = Thread(target=print_values, args=([2, 4], lock2, lock1, \"t2\"))\n",
    "\n",
    "thread1.start()\n",
    "thread2.start()"
   ]
  },
  {
   "cell_type": "code",
   "execution_count": 131,
   "metadata": {},
   "outputs": [
    {
     "name": "stdout",
     "output_type": "stream",
     "text": [
      "Waiting to start game.\n",
      "loaded playeer\n",
      "loaded assets\n",
      "Started game!\n"
     ]
    }
   ],
   "source": [
    "def start_game(preq=[]):\n",
    "  print(\"Waiting to start game.\")\n",
    "\n",
    "  for t in preq:\n",
    "    t.join() # wait preq to finished before move on\n",
    "\n",
    "  print(\"Started game!\")\n",
    "\n",
    "def load_assets():\n",
    "  sleep(2)\n",
    "  print(\"loaded assets\")\n",
    "\n",
    "def load_player():\n",
    "  sleep(1)\n",
    "  print(\"loaded playeer\")\n",
    "\n",
    "load_assets_thread = Thread(target=load_assets)\n",
    "load_player_thread = Thread(target=load_player)\n",
    "preq = [load_assets_thread, load_player_thread]\n",
    "\n",
    "start_game_thread = Thread(target=start_game, args=(preq,))\n",
    "\n",
    "load_assets_thread.start()\n",
    "load_player_thread.start()\n",
    "\n",
    "start_game_thread.start()\n"
   ]
  },
  {
   "cell_type": "markdown",
   "metadata": {},
   "source": [
    "Dead Lock : No thread can be run\n",
    "\n",
    "We should use .join at the end of .py file to ensure all thread will be finised while import the module before goinh back to the main file."
   ]
  },
  {
   "cell_type": "markdown",
   "metadata": {},
   "source": [
    "## example Threading"
   ]
  },
  {
   "cell_type": "code",
   "execution_count": 31,
   "metadata": {},
   "outputs": [],
   "source": [
    "import threading\n",
    "\n",
    "class WordCounter:\n",
    "    def __init__(self):\n",
    "        self.lock = threading.Lock()\n",
    "        self.word_counts = {}\n",
    "\n",
    "    def process_text(self, text):\n",
    "        words = text.split(\" \")\n",
    "        temporary_word_counts = {}\n",
    "        for word in words:\n",
    "            if word not in temporary_word_counts:\n",
    "                temporary_word_counts[word] = 0\n",
    "            temporary_word_counts[word] += 1\n",
    "        self._increase_word_counts(temporary_word_counts)\n",
    "\n",
    "    def get_word_count(self, word):\n",
    "        self.lock.acquire()\n",
    "        count = self.word_counts.get(word, 0)\n",
    "        self.lock.release()\n",
    "        return count\n",
    "\n",
    "    def _increase_word_counts(self, word_counts):\n",
    "        self.lock.acquire()\n",
    "        for word in word_counts:\n",
    "            self.word_counts[word] = self.word_counts.get(word, 0) + word_counts[word]\n",
    "        self.lock.release()\n",
    "    \n",
    "\n"
   ]
  },
  {
   "cell_type": "code",
   "execution_count": 32,
   "metadata": {},
   "outputs": [
    {
     "data": {
      "text/plain": [
       "{'the': 2, 'cat': 1, 'is': 1, 'in': 1, 'bag': 1}"
      ]
     },
     "execution_count": 32,
     "metadata": {},
     "output_type": "execute_result"
    }
   ],
   "source": [
    "wc = WordCounter()\n",
    "wc.process_text(\"the cat is in the bag\")\n",
    "wc.word_counts"
   ]
  },
  {
   "cell_type": "markdown",
   "metadata": {},
   "source": [
    "# Asynchronous Programming"
   ]
  },
  {
   "cell_type": "markdown",
   "metadata": {},
   "source": [
    "Synchronous Programming : how fast code run depending on CPU"
   ]
  },
  {
   "cell_type": "markdown",
   "metadata": {},
   "source": [
    "Asynchronous Programming : may have some delay, schedule task to run in the future\n",
    "- Asynchronous in python is alternative to thread\n",
    "- prefer asynchronous code "
   ]
  },
  {
   "cell_type": "markdown",
   "metadata": {},
   "source": [
    "coroutine : any function with async keyword in front (able to cooperate runnig with other stuff)"
   ]
  },
  {
   "cell_type": "code",
   "execution_count": 151,
   "metadata": {},
   "outputs": [
    {
     "name": "stdout",
     "output_type": "stream",
     "text": [
      "main\n",
      "something\n",
      "main again\n"
     ]
    }
   ],
   "source": [
    "# Asynchronous code = 1 thread but can schedule task\n",
    "\n",
    "import asyncio\n",
    "\n",
    "async def print_something():\n",
    "  await asyncio.sleep(1)\n",
    "  print(\"something\")\n",
    "\n",
    "async def main():\n",
    "  print(\"main\")\n",
    "  await print_something()\n",
    "  print(\"main again\")\n",
    "\n",
    "# print(type(main()))\n",
    "\n",
    "# equivalent to asyncio.run(main()) but asyncio is for .py file while await is for .iptynb\n",
    "# asyncio.run(main())\n",
    "await main()"
   ]
  },
  {
   "cell_type": "code",
   "execution_count": 157,
   "metadata": {},
   "outputs": [
    {
     "name": "stdout",
     "output_type": "stream",
     "text": [
      "main\n",
      "main again\n",
      "something\n",
      "awaited\n"
     ]
    }
   ],
   "source": [
    "# Asynchronous code = 1 thread but can schedule task\n",
    "\n",
    "import asyncio\n",
    "\n",
    "async def print_something():\n",
    "  await asyncio.sleep(1)\n",
    "  print(\"something\")\n",
    "\n",
    "async def main():\n",
    "  print(\"main\")\n",
    "  task = asyncio.create_task(print_something())\n",
    "  print(\"main again\")\n",
    "  result = await task\n",
    "  print('awaited')\n",
    "\n",
    "# print(type(main()))\n",
    "\n",
    "# equivalent to asyncio.run(main()) but asyncio is for .py file while await is for .iptynb\n",
    "# asyncio.run(main())\n",
    "await main()"
   ]
  },
  {
   "cell_type": "code",
   "execution_count": 6,
   "metadata": {},
   "outputs": [
    {
     "name": "stdout",
     "output_type": "stream",
     "text": [
      "main1\n",
      "main2\n",
      "1\n",
      "2\n",
      "3\n",
      "4\n",
      "5\n",
      "main3\n",
      "done\n"
     ]
    }
   ],
   "source": [
    "import asyncio\n",
    "\n",
    "async def print_values(values, delay):\n",
    "  for item in values:\n",
    "    print(item)\n",
    "    await asyncio.sleep(delay)\n",
    "\n",
    "async def main():\n",
    "  task1 = asyncio.create_task(print_values([1, 3, 5], 0.1))\n",
    "  print('main1')\n",
    "  task2 = asyncio.create_task(print_values([2, 4], 0.1))\n",
    "  print('main2')\n",
    "  await task1\n",
    "  print('main3')\n",
    "  await task2\n",
    "  print(\"done\")\n",
    "\n",
    "# asyncio.run(main())\n",
    "await main()"
   ]
  },
  {
   "cell_type": "code",
   "execution_count": 10,
   "metadata": {},
   "outputs": [
    {
     "name": "stdout",
     "output_type": "stream",
     "text": [
      "1\n",
      "2\n",
      "3\n",
      "4\n",
      "5\n",
      "[0.1, 0.1]\n"
     ]
    }
   ],
   "source": [
    "# Gathering Task\n",
    "\n",
    "import asyncio\n",
    "\n",
    "async def print_values(values, delay):\n",
    "  for item in values:\n",
    "    print(item)\n",
    "    await asyncio.sleep(delay)\n",
    "  return delay\n",
    "\n",
    "async def main():\n",
    "  values = await asyncio.gather(print_values([1, 3, 5], 0.1), \n",
    "                               print_values([2, 4], 0.1))\n",
    "  print(values)\n",
    "\n",
    "# asyncio.run(main())\n",
    "await main()"
   ]
  },
  {
   "cell_type": "code",
   "execution_count": 14,
   "metadata": {},
   "outputs": [
    {
     "name": "stdout",
     "output_type": "stream",
     "text": [
      "[1, 3, 2, 4, 6, 5]\n"
     ]
    }
   ],
   "source": [
    "import asyncio\n",
    "\n",
    "\n",
    "async def append_two_values(lst, value1, value2):\n",
    "    lst.append(value1)\n",
    "    await asyncio.sleep(0.5)\n",
    "    lst.append(value2)\n",
    "\n",
    "\n",
    "lst = []\n",
    "# Write your code here.\n",
    "async def main(lst):\n",
    "    futures = [append_two_values(lst, 1, 4), append_two_values(lst, 3, 6), append_two_values(lst, 2, 5)]\n",
    "    await asyncio.gather(*futures)\n",
    "\n",
    "# asyncio.run(main(lst))\n",
    "await main(lst)\n",
    "print(lst)"
   ]
  },
  {
   "cell_type": "markdown",
   "metadata": {},
   "source": [
    "## Example Asynchornous "
   ]
  },
  {
   "cell_type": "code",
   "execution_count": 33,
   "metadata": {},
   "outputs": [],
   "source": [
    "# Solution 1\n",
    "import asyncio\n",
    "\n",
    "\n",
    "class BatchFetcher:\n",
    "    def __init__(self, database):\n",
    "        self.database = database\n",
    "\n",
    "    async def fetch_records(self, record_ids):\n",
    "        pending_records = []\n",
    "        for record_id in record_ids:\n",
    "            pending_records.append(self.database.async_fetch(record_id))\n",
    "\n",
    "        return await asyncio.gather(*pending_records)\n",
    "\n"
   ]
  },
  {
   "cell_type": "code",
   "execution_count": 35,
   "metadata": {},
   "outputs": [],
   "source": [
    "# Solution 2\n",
    "import asyncio\n",
    "\n",
    "\n",
    "class BatchFetcher:\n",
    "    def __init__(self, database):\n",
    "        self.database = database\n",
    "\n",
    "    async def fetch_records(self, record_ids):\n",
    "        pending_records = []\n",
    "        for record_id in record_ids:\n",
    "            task = asyncio.create_task(self.database.async_fetch(record_id))\n",
    "            pending_records.append(task)\n",
    "\n",
    "        records = []\n",
    "        for pending_record in pending_records:\n",
    "            records.append(await pending_record)\n",
    "        return records"
   ]
  },
  {
   "cell_type": "code",
   "execution_count": null,
   "metadata": {},
   "outputs": [],
   "source": []
  },
  {
   "cell_type": "markdown",
   "metadata": {},
   "source": []
  }
 ],
 "metadata": {
  "interpreter": {
   "hash": "20ac7aad763b689ebdaff2f53a3073c7ed55a0f51860968fbf5603f714378c4e"
  },
  "kernelspec": {
   "display_name": "Python 3.10.0 64-bit",
   "language": "python",
   "name": "python3"
  },
  "language_info": {
   "codemirror_mode": {
    "name": "ipython",
    "version": 3
   },
   "file_extension": ".py",
   "mimetype": "text/x-python",
   "name": "python",
   "nbconvert_exporter": "python",
   "pygments_lexer": "ipython3",
   "version": "3.10.0"
  },
  "orig_nbformat": 4
 },
 "nbformat": 4,
 "nbformat_minor": 2
}
